{
 "cells": [
  {
   "cell_type": "markdown",
   "metadata": {
    "cell_id": "adab0c1236014097a51c8ac397920859",
    "deepnote_app_block_visible": false,
    "deepnote_cell_type": "text-cell-h2",
    "formattedRanges": [],
    "is_collapsed": false
   },
   "source": [
    "## Housing price prediction"
   ]
  },
  {
   "cell_type": "code",
   "execution_count": 1,
   "metadata": {
    "cell_id": "c679e1e69ab544508652c363da61cd98",
    "deepnote_cell_type": "code",
    "execution_context_id": "e6d8c2bb-fc64-4cf0-a3a9-d12fa6d62397",
    "execution_millis": 1361,
    "execution_start": 1732967405249,
    "source_hash": "e6d6caf0"
   },
   "outputs": [],
   "source": [
    "import pandas as pd\n",
    "import numpy as np\n",
    "import seaborn as sns\n",
    "import matplotlib.pyplot as plt\n",
    "import statsmodels.api as sm"
   ]
  },
  {
   "cell_type": "code",
   "execution_count": 2,
   "metadata": {
    "cell_id": "8a0006f108c64a43a1ee33519c22a4a8",
    "deepnote_cell_type": "code",
    "execution_context_id": "7dcaffa3-965f-4ceb-a746-4a28afcfb001",
    "execution_millis": 95,
    "execution_start": 1732967406661,
    "source_hash": "cffc438d"
   },
   "outputs": [
    {
     "data": {
      "text/html": [
       "<div>\n",
       "<style scoped>\n",
       "    .dataframe tbody tr th:only-of-type {\n",
       "        vertical-align: middle;\n",
       "    }\n",
       "\n",
       "    .dataframe tbody tr th {\n",
       "        vertical-align: top;\n",
       "    }\n",
       "\n",
       "    .dataframe thead th {\n",
       "        text-align: right;\n",
       "    }\n",
       "</style>\n",
       "<table border=\"1\" class=\"dataframe\">\n",
       "  <thead>\n",
       "    <tr style=\"text-align: right;\">\n",
       "      <th></th>\n",
       "      <th>rownames</th>\n",
       "      <th>price</th>\n",
       "      <th>lotsize</th>\n",
       "      <th>bedrooms</th>\n",
       "      <th>bathrms</th>\n",
       "      <th>stories</th>\n",
       "      <th>driveway</th>\n",
       "      <th>recroom</th>\n",
       "      <th>fullbase</th>\n",
       "      <th>gashw</th>\n",
       "      <th>airco</th>\n",
       "      <th>garagepl</th>\n",
       "      <th>prefarea</th>\n",
       "    </tr>\n",
       "  </thead>\n",
       "  <tbody>\n",
       "    <tr>\n",
       "      <th>0</th>\n",
       "      <td>1</td>\n",
       "      <td>42000</td>\n",
       "      <td>5850</td>\n",
       "      <td>3</td>\n",
       "      <td>1</td>\n",
       "      <td>two</td>\n",
       "      <td>yes</td>\n",
       "      <td>no</td>\n",
       "      <td>yes</td>\n",
       "      <td>no</td>\n",
       "      <td>no</td>\n",
       "      <td>1</td>\n",
       "      <td>no</td>\n",
       "    </tr>\n",
       "    <tr>\n",
       "      <th>1</th>\n",
       "      <td>2</td>\n",
       "      <td>38500</td>\n",
       "      <td>4000</td>\n",
       "      <td>2</td>\n",
       "      <td>1</td>\n",
       "      <td>one</td>\n",
       "      <td>yes</td>\n",
       "      <td>no</td>\n",
       "      <td>no</td>\n",
       "      <td>no</td>\n",
       "      <td>no</td>\n",
       "      <td>0</td>\n",
       "      <td>no</td>\n",
       "    </tr>\n",
       "    <tr>\n",
       "      <th>2</th>\n",
       "      <td>3</td>\n",
       "      <td>49500</td>\n",
       "      <td>3060</td>\n",
       "      <td>3</td>\n",
       "      <td>1</td>\n",
       "      <td>one</td>\n",
       "      <td>yes</td>\n",
       "      <td>no</td>\n",
       "      <td>no</td>\n",
       "      <td>no</td>\n",
       "      <td>no</td>\n",
       "      <td>0</td>\n",
       "      <td>no</td>\n",
       "    </tr>\n",
       "    <tr>\n",
       "      <th>3</th>\n",
       "      <td>4</td>\n",
       "      <td>60500</td>\n",
       "      <td>6650</td>\n",
       "      <td>3</td>\n",
       "      <td>1</td>\n",
       "      <td>two</td>\n",
       "      <td>yes</td>\n",
       "      <td>yes</td>\n",
       "      <td>no</td>\n",
       "      <td>no</td>\n",
       "      <td>no</td>\n",
       "      <td>0</td>\n",
       "      <td>no</td>\n",
       "    </tr>\n",
       "    <tr>\n",
       "      <th>4</th>\n",
       "      <td>5</td>\n",
       "      <td>61000</td>\n",
       "      <td>6360</td>\n",
       "      <td>2</td>\n",
       "      <td>1</td>\n",
       "      <td>one</td>\n",
       "      <td>yes</td>\n",
       "      <td>no</td>\n",
       "      <td>no</td>\n",
       "      <td>no</td>\n",
       "      <td>no</td>\n",
       "      <td>0</td>\n",
       "      <td>no</td>\n",
       "    </tr>\n",
       "  </tbody>\n",
       "</table>\n",
       "</div>"
      ],
      "text/plain": [
       "   rownames  price  lotsize  bedrooms  bathrms stories driveway recroom  \\\n",
       "0         1  42000     5850         3        1     two      yes      no   \n",
       "1         2  38500     4000         2        1     one      yes      no   \n",
       "2         3  49500     3060         3        1     one      yes      no   \n",
       "3         4  60500     6650         3        1     two      yes     yes   \n",
       "4         5  61000     6360         2        1     one      yes      no   \n",
       "\n",
       "  fullbase gashw airco  garagepl prefarea  \n",
       "0      yes    no    no         1       no  \n",
       "1       no    no    no         0       no  \n",
       "2       no    no    no         0       no  \n",
       "3       no    no    no         0       no  \n",
       "4       no    no    no         0       no  "
      ]
     },
     "execution_count": 2,
     "metadata": {},
     "output_type": "execute_result"
    }
   ],
   "source": [
    "hdf = pd.read_csv(r'C:\\Users\\Shiv n\\OneDrive\\Desktop\\py\\Housing.csv', encoding= 'unicode_escape')\n",
    "hdf.head()"
   ]
  },
  {
   "cell_type": "markdown",
   "metadata": {
    "cell_id": "f80897c4738149c789f2fa10175c87ac",
    "deepnote_app_block_visible": false,
    "deepnote_cell_type": "markdown"
   },
   "source": [
    "###  **Data Preprocessing**"
   ]
  },
  {
   "cell_type": "markdown",
   "metadata": {
    "cell_id": "ee3d8e4ed6814c22b4eb2459794faed3",
    "deepnote_cell_type": "markdown"
   },
   "source": [
    "**LabelBinarizer:** This will Converts categorical labels into a one-hot encoded format.Binary (one-hot) matrix, where each row represents one class in binary form. **No ordinal risk; encodes each category independently.**"
   ]
  },
  {
   "cell_type": "markdown",
   "metadata": {
    "cell_id": "85b23d4e658c43ccb1282f5b83528cba",
    "deepnote_cell_type": "markdown"
   },
   "source": [
    "**One-hot encoding :** If we assign numerical values like 0, 1, 2, 3 to categories, models might interpret them as having a ranking, which can mislead predictions."
   ]
  },
  {
   "cell_type": "markdown",
   "metadata": {
    "cell_id": "14d2ede1039542f1982fd4fc8a1d751e",
    "deepnote_cell_type": "markdown"
   },
   "source": [
    "Alternatively we can achieve the same using **get_dummies** of pandas package. This is much efficient to use as we can directly use it on the column with text description without having to convert to numbers first."
   ]
  },
  {
   "cell_type": "code",
   "execution_count": 3,
   "metadata": {
    "cell_id": "0222ecd9bdf94d2483857251c12242e9",
    "deepnote_cell_type": "code",
    "execution_context_id": "7dcaffa3-965f-4ceb-a746-4a28afcfb001",
    "execution_millis": 0,
    "execution_start": 1732967406798,
    "source_hash": "68b4f23e"
   },
   "outputs": [
    {
     "data": {
      "text/html": [
       "<div>\n",
       "<style scoped>\n",
       "    .dataframe tbody tr th:only-of-type {\n",
       "        vertical-align: middle;\n",
       "    }\n",
       "\n",
       "    .dataframe tbody tr th {\n",
       "        vertical-align: top;\n",
       "    }\n",
       "\n",
       "    .dataframe thead th {\n",
       "        text-align: right;\n",
       "    }\n",
       "</style>\n",
       "<table border=\"1\" class=\"dataframe\">\n",
       "  <thead>\n",
       "    <tr style=\"text-align: right;\">\n",
       "      <th></th>\n",
       "      <th>stories</th>\n",
       "      <th>driveway</th>\n",
       "      <th>recroom</th>\n",
       "      <th>fullbase</th>\n",
       "      <th>gashw</th>\n",
       "      <th>airco</th>\n",
       "      <th>prefarea</th>\n",
       "    </tr>\n",
       "  </thead>\n",
       "  <tbody>\n",
       "    <tr>\n",
       "      <th>0</th>\n",
       "      <td>two</td>\n",
       "      <td>yes</td>\n",
       "      <td>no</td>\n",
       "      <td>yes</td>\n",
       "      <td>no</td>\n",
       "      <td>no</td>\n",
       "      <td>no</td>\n",
       "    </tr>\n",
       "    <tr>\n",
       "      <th>1</th>\n",
       "      <td>one</td>\n",
       "      <td>yes</td>\n",
       "      <td>no</td>\n",
       "      <td>no</td>\n",
       "      <td>no</td>\n",
       "      <td>no</td>\n",
       "      <td>no</td>\n",
       "    </tr>\n",
       "    <tr>\n",
       "      <th>2</th>\n",
       "      <td>one</td>\n",
       "      <td>yes</td>\n",
       "      <td>no</td>\n",
       "      <td>no</td>\n",
       "      <td>no</td>\n",
       "      <td>no</td>\n",
       "      <td>no</td>\n",
       "    </tr>\n",
       "    <tr>\n",
       "      <th>3</th>\n",
       "      <td>two</td>\n",
       "      <td>yes</td>\n",
       "      <td>yes</td>\n",
       "      <td>no</td>\n",
       "      <td>no</td>\n",
       "      <td>no</td>\n",
       "      <td>no</td>\n",
       "    </tr>\n",
       "    <tr>\n",
       "      <th>4</th>\n",
       "      <td>one</td>\n",
       "      <td>yes</td>\n",
       "      <td>no</td>\n",
       "      <td>no</td>\n",
       "      <td>no</td>\n",
       "      <td>no</td>\n",
       "      <td>no</td>\n",
       "    </tr>\n",
       "  </tbody>\n",
       "</table>\n",
       "</div>"
      ],
      "text/plain": [
       "  stories driveway recroom fullbase gashw airco prefarea\n",
       "0     two      yes      no      yes    no    no       no\n",
       "1     one      yes      no       no    no    no       no\n",
       "2     one      yes      no       no    no    no       no\n",
       "3     two      yes     yes       no    no    no       no\n",
       "4     one      yes      no       no    no    no       no"
      ]
     },
     "execution_count": 3,
     "metadata": {},
     "output_type": "execute_result"
    }
   ],
   "source": [
    "hdf.select_dtypes(include= 'object').head()"
   ]
  },
  {
   "cell_type": "code",
   "execution_count": 4,
   "metadata": {
    "cell_id": "e20d6ae63bc8459bbe9ec944c564a5d2",
    "deepnote_cell_type": "code",
    "execution_context_id": "111a2421-86f6-4260-802b-b69392df98f0",
    "execution_millis": 19,
    "execution_start": 1732967406849,
    "source_hash": "dadad5bb"
   },
   "outputs": [
    {
     "data": {
      "text/html": [
       "<div>\n",
       "<style scoped>\n",
       "    .dataframe tbody tr th:only-of-type {\n",
       "        vertical-align: middle;\n",
       "    }\n",
       "\n",
       "    .dataframe tbody tr th {\n",
       "        vertical-align: top;\n",
       "    }\n",
       "\n",
       "    .dataframe thead th {\n",
       "        text-align: right;\n",
       "    }\n",
       "</style>\n",
       "<table border=\"1\" class=\"dataframe\">\n",
       "  <thead>\n",
       "    <tr style=\"text-align: right;\">\n",
       "      <th></th>\n",
       "      <th>rownames</th>\n",
       "      <th>price</th>\n",
       "      <th>lotsize</th>\n",
       "      <th>bedrooms</th>\n",
       "      <th>bathrms</th>\n",
       "      <th>stories</th>\n",
       "      <th>driveway</th>\n",
       "      <th>recroom</th>\n",
       "      <th>fullbase</th>\n",
       "      <th>gashw</th>\n",
       "      <th>airco</th>\n",
       "      <th>garagepl</th>\n",
       "      <th>prefarea</th>\n",
       "    </tr>\n",
       "  </thead>\n",
       "  <tbody>\n",
       "    <tr>\n",
       "      <th>0</th>\n",
       "      <td>1</td>\n",
       "      <td>42000</td>\n",
       "      <td>5850</td>\n",
       "      <td>3</td>\n",
       "      <td>1</td>\n",
       "      <td>two</td>\n",
       "      <td>1</td>\n",
       "      <td>0</td>\n",
       "      <td>1</td>\n",
       "      <td>0</td>\n",
       "      <td>0</td>\n",
       "      <td>1</td>\n",
       "      <td>0</td>\n",
       "    </tr>\n",
       "    <tr>\n",
       "      <th>1</th>\n",
       "      <td>2</td>\n",
       "      <td>38500</td>\n",
       "      <td>4000</td>\n",
       "      <td>2</td>\n",
       "      <td>1</td>\n",
       "      <td>one</td>\n",
       "      <td>1</td>\n",
       "      <td>0</td>\n",
       "      <td>0</td>\n",
       "      <td>0</td>\n",
       "      <td>0</td>\n",
       "      <td>0</td>\n",
       "      <td>0</td>\n",
       "    </tr>\n",
       "    <tr>\n",
       "      <th>2</th>\n",
       "      <td>3</td>\n",
       "      <td>49500</td>\n",
       "      <td>3060</td>\n",
       "      <td>3</td>\n",
       "      <td>1</td>\n",
       "      <td>one</td>\n",
       "      <td>1</td>\n",
       "      <td>0</td>\n",
       "      <td>0</td>\n",
       "      <td>0</td>\n",
       "      <td>0</td>\n",
       "      <td>0</td>\n",
       "      <td>0</td>\n",
       "    </tr>\n",
       "    <tr>\n",
       "      <th>3</th>\n",
       "      <td>4</td>\n",
       "      <td>60500</td>\n",
       "      <td>6650</td>\n",
       "      <td>3</td>\n",
       "      <td>1</td>\n",
       "      <td>two</td>\n",
       "      <td>1</td>\n",
       "      <td>1</td>\n",
       "      <td>0</td>\n",
       "      <td>0</td>\n",
       "      <td>0</td>\n",
       "      <td>0</td>\n",
       "      <td>0</td>\n",
       "    </tr>\n",
       "    <tr>\n",
       "      <th>4</th>\n",
       "      <td>5</td>\n",
       "      <td>61000</td>\n",
       "      <td>6360</td>\n",
       "      <td>2</td>\n",
       "      <td>1</td>\n",
       "      <td>one</td>\n",
       "      <td>1</td>\n",
       "      <td>0</td>\n",
       "      <td>0</td>\n",
       "      <td>0</td>\n",
       "      <td>0</td>\n",
       "      <td>0</td>\n",
       "      <td>0</td>\n",
       "    </tr>\n",
       "  </tbody>\n",
       "</table>\n",
       "</div>"
      ],
      "text/plain": [
       "   rownames  price  lotsize  bedrooms  bathrms stories  driveway  recroom  \\\n",
       "0         1  42000     5850         3        1     two         1        0   \n",
       "1         2  38500     4000         2        1     one         1        0   \n",
       "2         3  49500     3060         3        1     one         1        0   \n",
       "3         4  60500     6650         3        1     two         1        1   \n",
       "4         5  61000     6360         2        1     one         1        0   \n",
       "\n",
       "   fullbase  gashw  airco  garagepl  prefarea  \n",
       "0         1      0      0         1         0  \n",
       "1         0      0      0         0         0  \n",
       "2         0      0      0         0         0  \n",
       "3         0      0      0         0         0  \n",
       "4         0      0      0         0         0  "
      ]
     },
     "execution_count": 4,
     "metadata": {},
     "output_type": "execute_result"
    }
   ],
   "source": [
    "from sklearn.preprocessing import LabelBinarizer\n",
    "\n",
    "lb = LabelBinarizer()\n",
    "\n",
    "hdf['driveway'] = lb.fit_transform(hdf['driveway'])\n",
    "hdf['recroom'] = lb.fit_transform(hdf['recroom']) \n",
    "hdf['fullbase'] = lb.fit_transform(hdf['fullbase'])\n",
    "hdf['gashw'] = lb.fit_transform(hdf['gashw'])\n",
    "hdf['airco'] = lb.fit_transform(hdf['airco'])\n",
    "hdf['prefarea'] = lb.fit_transform(hdf['prefarea'])\n",
    "\n",
    "hdf.head()"
   ]
  },
  {
   "cell_type": "code",
   "execution_count": 5,
   "metadata": {
    "cell_id": "a2604d7be8084671bdc248bf7c05b23e",
    "deepnote_cell_type": "code",
    "execution_context_id": "111a2421-86f6-4260-802b-b69392df98f0",
    "execution_millis": 1,
    "execution_start": 1732967406965,
    "source_hash": "8068ba28"
   },
   "outputs": [
    {
     "data": {
      "text/html": [
       "<div>\n",
       "<style scoped>\n",
       "    .dataframe tbody tr th:only-of-type {\n",
       "        vertical-align: middle;\n",
       "    }\n",
       "\n",
       "    .dataframe tbody tr th {\n",
       "        vertical-align: top;\n",
       "    }\n",
       "\n",
       "    .dataframe thead th {\n",
       "        text-align: right;\n",
       "    }\n",
       "</style>\n",
       "<table border=\"1\" class=\"dataframe\">\n",
       "  <thead>\n",
       "    <tr style=\"text-align: right;\">\n",
       "      <th></th>\n",
       "      <th>stories_one</th>\n",
       "      <th>stories_three</th>\n",
       "      <th>stories_two</th>\n",
       "    </tr>\n",
       "  </thead>\n",
       "  <tbody>\n",
       "    <tr>\n",
       "      <th>0</th>\n",
       "      <td>False</td>\n",
       "      <td>False</td>\n",
       "      <td>True</td>\n",
       "    </tr>\n",
       "    <tr>\n",
       "      <th>1</th>\n",
       "      <td>True</td>\n",
       "      <td>False</td>\n",
       "      <td>False</td>\n",
       "    </tr>\n",
       "    <tr>\n",
       "      <th>2</th>\n",
       "      <td>True</td>\n",
       "      <td>False</td>\n",
       "      <td>False</td>\n",
       "    </tr>\n",
       "    <tr>\n",
       "      <th>3</th>\n",
       "      <td>False</td>\n",
       "      <td>False</td>\n",
       "      <td>True</td>\n",
       "    </tr>\n",
       "    <tr>\n",
       "      <th>4</th>\n",
       "      <td>True</td>\n",
       "      <td>False</td>\n",
       "      <td>False</td>\n",
       "    </tr>\n",
       "  </tbody>\n",
       "</table>\n",
       "</div>"
      ],
      "text/plain": [
       "   stories_one  stories_three  stories_two\n",
       "0        False          False         True\n",
       "1         True          False        False\n",
       "2         True          False        False\n",
       "3        False          False         True\n",
       "4         True          False        False"
      ]
     },
     "execution_count": 5,
     "metadata": {},
     "output_type": "execute_result"
    }
   ],
   "source": [
    "# Create dummy variables for stories column\n",
    "\n",
    "dummy_df = pd.get_dummies(hdf['stories'], prefix= 'stories', drop_first= True)\n",
    "dummy_df.head()"
   ]
  },
  {
   "cell_type": "code",
   "execution_count": 6,
   "metadata": {
    "cell_id": "0c4eec05d9de4034ba5fc18760158e0b",
    "deepnote_cell_type": "code",
    "execution_context_id": "5bb169b8-2972-40e3-9d42-3dc4d4db26c1",
    "execution_millis": 0,
    "execution_start": 1732967407017,
    "source_hash": "8937cedc"
   },
   "outputs": [],
   "source": [
    "dummy_df['stories_one'] = lb.fit_transform(dummy_df['stories_one'])\n",
    "dummy_df['stories_two'] = lb.fit_transform(dummy_df['stories_two'])\n",
    "dummy_df['stories_three'] = lb.fit_transform(dummy_df['stories_three'])"
   ]
  },
  {
   "cell_type": "code",
   "execution_count": 7,
   "metadata": {
    "cell_id": "91b1ac3660dc4419aa5557e84f2a0e17",
    "deepnote_cell_type": "code",
    "execution_context_id": "5bb169b8-2972-40e3-9d42-3dc4d4db26c1",
    "execution_millis": 1,
    "execution_start": 1732967407065,
    "source_hash": "f57bf353"
   },
   "outputs": [],
   "source": [
    "hdf = pd.concat([hdf, dummy_df], axis= 1)    # axis= 1 means (row by row)."
   ]
  },
  {
   "cell_type": "code",
   "execution_count": 8,
   "metadata": {
    "cell_id": "ee231753cb2c4bc2b910966c7b4cd3c4",
    "deepnote_cell_type": "code",
    "execution_context_id": "e6d8c2bb-fc64-4cf0-a3a9-d12fa6d62397",
    "execution_millis": 1,
    "execution_start": 1732967407117,
    "source_hash": "e9f55bc7"
   },
   "outputs": [
    {
     "data": {
      "text/html": [
       "<div>\n",
       "<style scoped>\n",
       "    .dataframe tbody tr th:only-of-type {\n",
       "        vertical-align: middle;\n",
       "    }\n",
       "\n",
       "    .dataframe tbody tr th {\n",
       "        vertical-align: top;\n",
       "    }\n",
       "\n",
       "    .dataframe thead th {\n",
       "        text-align: right;\n",
       "    }\n",
       "</style>\n",
       "<table border=\"1\" class=\"dataframe\">\n",
       "  <thead>\n",
       "    <tr style=\"text-align: right;\">\n",
       "      <th></th>\n",
       "      <th>rownames</th>\n",
       "      <th>price</th>\n",
       "      <th>lotsize</th>\n",
       "      <th>bedrooms</th>\n",
       "      <th>bathrms</th>\n",
       "      <th>driveway</th>\n",
       "      <th>recroom</th>\n",
       "      <th>fullbase</th>\n",
       "      <th>gashw</th>\n",
       "      <th>airco</th>\n",
       "      <th>garagepl</th>\n",
       "      <th>prefarea</th>\n",
       "      <th>stories_one</th>\n",
       "      <th>stories_three</th>\n",
       "      <th>stories_two</th>\n",
       "    </tr>\n",
       "  </thead>\n",
       "  <tbody>\n",
       "    <tr>\n",
       "      <th>0</th>\n",
       "      <td>1</td>\n",
       "      <td>42000</td>\n",
       "      <td>5850</td>\n",
       "      <td>3</td>\n",
       "      <td>1</td>\n",
       "      <td>1</td>\n",
       "      <td>0</td>\n",
       "      <td>1</td>\n",
       "      <td>0</td>\n",
       "      <td>0</td>\n",
       "      <td>1</td>\n",
       "      <td>0</td>\n",
       "      <td>0</td>\n",
       "      <td>0</td>\n",
       "      <td>1</td>\n",
       "    </tr>\n",
       "    <tr>\n",
       "      <th>1</th>\n",
       "      <td>2</td>\n",
       "      <td>38500</td>\n",
       "      <td>4000</td>\n",
       "      <td>2</td>\n",
       "      <td>1</td>\n",
       "      <td>1</td>\n",
       "      <td>0</td>\n",
       "      <td>0</td>\n",
       "      <td>0</td>\n",
       "      <td>0</td>\n",
       "      <td>0</td>\n",
       "      <td>0</td>\n",
       "      <td>1</td>\n",
       "      <td>0</td>\n",
       "      <td>0</td>\n",
       "    </tr>\n",
       "    <tr>\n",
       "      <th>2</th>\n",
       "      <td>3</td>\n",
       "      <td>49500</td>\n",
       "      <td>3060</td>\n",
       "      <td>3</td>\n",
       "      <td>1</td>\n",
       "      <td>1</td>\n",
       "      <td>0</td>\n",
       "      <td>0</td>\n",
       "      <td>0</td>\n",
       "      <td>0</td>\n",
       "      <td>0</td>\n",
       "      <td>0</td>\n",
       "      <td>1</td>\n",
       "      <td>0</td>\n",
       "      <td>0</td>\n",
       "    </tr>\n",
       "    <tr>\n",
       "      <th>3</th>\n",
       "      <td>4</td>\n",
       "      <td>60500</td>\n",
       "      <td>6650</td>\n",
       "      <td>3</td>\n",
       "      <td>1</td>\n",
       "      <td>1</td>\n",
       "      <td>1</td>\n",
       "      <td>0</td>\n",
       "      <td>0</td>\n",
       "      <td>0</td>\n",
       "      <td>0</td>\n",
       "      <td>0</td>\n",
       "      <td>0</td>\n",
       "      <td>0</td>\n",
       "      <td>1</td>\n",
       "    </tr>\n",
       "    <tr>\n",
       "      <th>4</th>\n",
       "      <td>5</td>\n",
       "      <td>61000</td>\n",
       "      <td>6360</td>\n",
       "      <td>2</td>\n",
       "      <td>1</td>\n",
       "      <td>1</td>\n",
       "      <td>0</td>\n",
       "      <td>0</td>\n",
       "      <td>0</td>\n",
       "      <td>0</td>\n",
       "      <td>0</td>\n",
       "      <td>0</td>\n",
       "      <td>1</td>\n",
       "      <td>0</td>\n",
       "      <td>0</td>\n",
       "    </tr>\n",
       "  </tbody>\n",
       "</table>\n",
       "</div>"
      ],
      "text/plain": [
       "   rownames  price  lotsize  bedrooms  bathrms  driveway  recroom  fullbase  \\\n",
       "0         1  42000     5850         3        1         1        0         1   \n",
       "1         2  38500     4000         2        1         1        0         0   \n",
       "2         3  49500     3060         3        1         1        0         0   \n",
       "3         4  60500     6650         3        1         1        1         0   \n",
       "4         5  61000     6360         2        1         1        0         0   \n",
       "\n",
       "   gashw  airco  garagepl  prefarea  stories_one  stories_three  stories_two  \n",
       "0      0      0         1         0            0              0            1  \n",
       "1      0      0         0         0            1              0            0  \n",
       "2      0      0         0         0            1              0            0  \n",
       "3      0      0         0         0            0              0            1  \n",
       "4      0      0         0         0            1              0            0  "
      ]
     },
     "execution_count": 8,
     "metadata": {},
     "output_type": "execute_result"
    }
   ],
   "source": [
    "del hdf['stories']\n",
    "hdf.head()"
   ]
  },
  {
   "cell_type": "markdown",
   "metadata": {
    "cell_id": "818716c2b2294f35bbace5b400b03b57",
    "deepnote_cell_type": "text-cell-h3",
    "formattedRanges": []
   },
   "source": [
    "### Multicollinearity check :"
   ]
  },
  {
   "cell_type": "markdown",
   "metadata": {
    "cell_id": "8a3b6c6bec05400790ab9bc17560b6c3",
    "deepnote_app_block_visible": false,
    "deepnote_cell_type": "markdown"
   },
   "source": [
    "- **Multicollinearity occurs when two or more independent features are internally correlated with each other above 0.7**\n",
    "\n",
    "however, the exact threshold can vary depending on the use case"
   ]
  },
  {
   "cell_type": "code",
   "execution_count": 9,
   "metadata": {
    "cell_id": "a16dae14c8844c8cb873b17335fddbf4",
    "deepnote_cell_type": "code",
    "execution_context_id": "e6d8c2bb-fc64-4cf0-a3a9-d12fa6d62397",
    "execution_millis": 1,
    "execution_start": 1732967686177,
    "source_hash": "d0488588"
   },
   "outputs": [
    {
     "data": {
      "text/html": [
       "<div>\n",
       "<style scoped>\n",
       "    .dataframe tbody tr th:only-of-type {\n",
       "        vertical-align: middle;\n",
       "    }\n",
       "\n",
       "    .dataframe tbody tr th {\n",
       "        vertical-align: top;\n",
       "    }\n",
       "\n",
       "    .dataframe thead th {\n",
       "        text-align: right;\n",
       "    }\n",
       "</style>\n",
       "<table border=\"1\" class=\"dataframe\">\n",
       "  <thead>\n",
       "    <tr style=\"text-align: right;\">\n",
       "      <th></th>\n",
       "      <th>lotsize</th>\n",
       "      <th>bedrooms</th>\n",
       "      <th>bathrms</th>\n",
       "      <th>driveway</th>\n",
       "      <th>recroom</th>\n",
       "      <th>fullbase</th>\n",
       "      <th>gashw</th>\n",
       "      <th>airco</th>\n",
       "      <th>garagepl</th>\n",
       "      <th>prefarea</th>\n",
       "      <th>stories_one</th>\n",
       "      <th>stories_three</th>\n",
       "      <th>stories_two</th>\n",
       "    </tr>\n",
       "  </thead>\n",
       "  <tbody>\n",
       "    <tr>\n",
       "      <th>0</th>\n",
       "      <td>5850</td>\n",
       "      <td>3</td>\n",
       "      <td>1</td>\n",
       "      <td>1</td>\n",
       "      <td>0</td>\n",
       "      <td>1</td>\n",
       "      <td>0</td>\n",
       "      <td>0</td>\n",
       "      <td>1</td>\n",
       "      <td>0</td>\n",
       "      <td>0</td>\n",
       "      <td>0</td>\n",
       "      <td>1</td>\n",
       "    </tr>\n",
       "    <tr>\n",
       "      <th>1</th>\n",
       "      <td>4000</td>\n",
       "      <td>2</td>\n",
       "      <td>1</td>\n",
       "      <td>1</td>\n",
       "      <td>0</td>\n",
       "      <td>0</td>\n",
       "      <td>0</td>\n",
       "      <td>0</td>\n",
       "      <td>0</td>\n",
       "      <td>0</td>\n",
       "      <td>1</td>\n",
       "      <td>0</td>\n",
       "      <td>0</td>\n",
       "    </tr>\n",
       "    <tr>\n",
       "      <th>2</th>\n",
       "      <td>3060</td>\n",
       "      <td>3</td>\n",
       "      <td>1</td>\n",
       "      <td>1</td>\n",
       "      <td>0</td>\n",
       "      <td>0</td>\n",
       "      <td>0</td>\n",
       "      <td>0</td>\n",
       "      <td>0</td>\n",
       "      <td>0</td>\n",
       "      <td>1</td>\n",
       "      <td>0</td>\n",
       "      <td>0</td>\n",
       "    </tr>\n",
       "    <tr>\n",
       "      <th>3</th>\n",
       "      <td>6650</td>\n",
       "      <td>3</td>\n",
       "      <td>1</td>\n",
       "      <td>1</td>\n",
       "      <td>1</td>\n",
       "      <td>0</td>\n",
       "      <td>0</td>\n",
       "      <td>0</td>\n",
       "      <td>0</td>\n",
       "      <td>0</td>\n",
       "      <td>0</td>\n",
       "      <td>0</td>\n",
       "      <td>1</td>\n",
       "    </tr>\n",
       "    <tr>\n",
       "      <th>4</th>\n",
       "      <td>6360</td>\n",
       "      <td>2</td>\n",
       "      <td>1</td>\n",
       "      <td>1</td>\n",
       "      <td>0</td>\n",
       "      <td>0</td>\n",
       "      <td>0</td>\n",
       "      <td>0</td>\n",
       "      <td>0</td>\n",
       "      <td>0</td>\n",
       "      <td>1</td>\n",
       "      <td>0</td>\n",
       "      <td>0</td>\n",
       "    </tr>\n",
       "  </tbody>\n",
       "</table>\n",
       "</div>"
      ],
      "text/plain": [
       "   lotsize  bedrooms  bathrms  driveway  recroom  fullbase  gashw  airco  \\\n",
       "0     5850         3        1         1        0         1      0      0   \n",
       "1     4000         2        1         1        0         0      0      0   \n",
       "2     3060         3        1         1        0         0      0      0   \n",
       "3     6650         3        1         1        1         0      0      0   \n",
       "4     6360         2        1         1        0         0      0      0   \n",
       "\n",
       "   garagepl  prefarea  stories_one  stories_three  stories_two  \n",
       "0         1         0            0              0            1  \n",
       "1         0         0            1              0            0  \n",
       "2         0         0            1              0            0  \n",
       "3         0         0            0              0            1  \n",
       "4         0         0            1              0            0  "
      ]
     },
     "execution_count": 9,
     "metadata": {},
     "output_type": "execute_result"
    }
   ],
   "source": [
    "independent_feature = hdf.iloc[:, 2:]\n",
    "independent_feature.head()"
   ]
  },
  {
   "cell_type": "code",
   "execution_count": 10,
   "metadata": {
    "cell_id": "f0f4de61a2cd40f398d1fb72fe01f1a4",
    "deepnote_cell_type": "code",
    "execution_context_id": "e6d8c2bb-fc64-4cf0-a3a9-d12fa6d62397",
    "execution_millis": 2,
    "execution_start": 1732967835099,
    "source_hash": "7c1c1478"
   },
   "outputs": [
    {
     "data": {
      "text/plain": [
       "0    42000\n",
       "1    38500\n",
       "2    49500\n",
       "3    60500\n",
       "4    61000\n",
       "Name: price, dtype: int64"
      ]
     },
     "execution_count": 10,
     "metadata": {},
     "output_type": "execute_result"
    }
   ],
   "source": [
    "target_feature = hdf['price']\n",
    "target_feature.head()"
   ]
  },
  {
   "cell_type": "markdown",
   "metadata": {
    "cell_id": "ea86a005ed3f497eb54fb99c331b878a",
    "deepnote_cell_type": "code"
   },
   "source": [
    "### Variance Inflation Factor"
   ]
  },
  {
   "cell_type": "markdown",
   "metadata": {},
   "source": [
    "- **VIF > 10 is a indicator of high multicollinearity, and these variables should be excluded from the regression model.**"
   ]
  },
  {
   "cell_type": "code",
   "execution_count": 11,
   "metadata": {},
   "outputs": [],
   "source": [
    "from statsmodels.stats.outliers_influence import variance_inflation_factor\n",
    "\n",
    "def calculate_vif(dataset):\n",
    "    df = pd.DataFrame()\n",
    "    df['columns'] = dataset.columns\n",
    "    df['vif_value'] = [variance_inflation_factor(dataset.values, i) for i in range(len(dataset.columns))]\n",
    "    \n",
    "    return df"
   ]
  },
  {
   "cell_type": "code",
   "execution_count": 12,
   "metadata": {},
   "outputs": [
    {
     "data": {
      "text/html": [
       "<div>\n",
       "<style scoped>\n",
       "    .dataframe tbody tr th:only-of-type {\n",
       "        vertical-align: middle;\n",
       "    }\n",
       "\n",
       "    .dataframe tbody tr th {\n",
       "        vertical-align: top;\n",
       "    }\n",
       "\n",
       "    .dataframe thead th {\n",
       "        text-align: right;\n",
       "    }\n",
       "</style>\n",
       "<table border=\"1\" class=\"dataframe\">\n",
       "  <thead>\n",
       "    <tr style=\"text-align: right;\">\n",
       "      <th></th>\n",
       "      <th>columns</th>\n",
       "      <th>vif_value</th>\n",
       "    </tr>\n",
       "  </thead>\n",
       "  <tbody>\n",
       "    <tr>\n",
       "      <th>0</th>\n",
       "      <td>lotsize</td>\n",
       "      <td>8.958098</td>\n",
       "    </tr>\n",
       "    <tr>\n",
       "      <th>1</th>\n",
       "      <td>bedrooms</td>\n",
       "      <td>18.469879</td>\n",
       "    </tr>\n",
       "    <tr>\n",
       "      <th>2</th>\n",
       "      <td>bathrms</td>\n",
       "      <td>8.984672</td>\n",
       "    </tr>\n",
       "    <tr>\n",
       "      <th>3</th>\n",
       "      <td>driveway</td>\n",
       "      <td>7.088579</td>\n",
       "    </tr>\n",
       "    <tr>\n",
       "      <th>4</th>\n",
       "      <td>recroom</td>\n",
       "      <td>1.477015</td>\n",
       "    </tr>\n",
       "    <tr>\n",
       "      <th>5</th>\n",
       "      <td>fullbase</td>\n",
       "      <td>2.013320</td>\n",
       "    </tr>\n",
       "    <tr>\n",
       "      <th>6</th>\n",
       "      <td>gashw</td>\n",
       "      <td>1.103488</td>\n",
       "    </tr>\n",
       "    <tr>\n",
       "      <th>7</th>\n",
       "      <td>airco</td>\n",
       "      <td>1.756746</td>\n",
       "    </tr>\n",
       "    <tr>\n",
       "      <th>8</th>\n",
       "      <td>garagepl</td>\n",
       "      <td>1.982649</td>\n",
       "    </tr>\n",
       "    <tr>\n",
       "      <th>9</th>\n",
       "      <td>prefarea</td>\n",
       "      <td>1.533295</td>\n",
       "    </tr>\n",
       "    <tr>\n",
       "      <th>10</th>\n",
       "      <td>stories_one</td>\n",
       "      <td>3.965753</td>\n",
       "    </tr>\n",
       "    <tr>\n",
       "      <th>11</th>\n",
       "      <td>stories_three</td>\n",
       "      <td>1.770040</td>\n",
       "    </tr>\n",
       "    <tr>\n",
       "      <th>12</th>\n",
       "      <td>stories_two</td>\n",
       "      <td>5.511702</td>\n",
       "    </tr>\n",
       "  </tbody>\n",
       "</table>\n",
       "</div>"
      ],
      "text/plain": [
       "          columns  vif_value\n",
       "0         lotsize   8.958098\n",
       "1        bedrooms  18.469879\n",
       "2         bathrms   8.984672\n",
       "3        driveway   7.088579\n",
       "4         recroom   1.477015\n",
       "5        fullbase   2.013320\n",
       "6           gashw   1.103488\n",
       "7           airco   1.756746\n",
       "8        garagepl   1.982649\n",
       "9        prefarea   1.533295\n",
       "10    stories_one   3.965753\n",
       "11  stories_three   1.770040\n",
       "12    stories_two   5.511702"
      ]
     },
     "execution_count": 12,
     "metadata": {},
     "output_type": "execute_result"
    }
   ],
   "source": [
    "calculate_vif(independent_feature)"
   ]
  },
  {
   "cell_type": "markdown",
   "metadata": {},
   "source": [
    "- **Since, VIF values of bedrooms > 10, we are going to drop this feature to get rid of Multicollinearity**"
   ]
  },
  {
   "cell_type": "code",
   "execution_count": 13,
   "metadata": {},
   "outputs": [
    {
     "data": {
      "text/html": [
       "<div>\n",
       "<style scoped>\n",
       "    .dataframe tbody tr th:only-of-type {\n",
       "        vertical-align: middle;\n",
       "    }\n",
       "\n",
       "    .dataframe tbody tr th {\n",
       "        vertical-align: top;\n",
       "    }\n",
       "\n",
       "    .dataframe thead th {\n",
       "        text-align: right;\n",
       "    }\n",
       "</style>\n",
       "<table border=\"1\" class=\"dataframe\">\n",
       "  <thead>\n",
       "    <tr style=\"text-align: right;\">\n",
       "      <th></th>\n",
       "      <th>lotsize</th>\n",
       "      <th>bathrms</th>\n",
       "      <th>driveway</th>\n",
       "      <th>recroom</th>\n",
       "      <th>fullbase</th>\n",
       "      <th>gashw</th>\n",
       "      <th>airco</th>\n",
       "      <th>garagepl</th>\n",
       "      <th>prefarea</th>\n",
       "      <th>stories_one</th>\n",
       "      <th>stories_two</th>\n",
       "      <th>stories_three</th>\n",
       "    </tr>\n",
       "  </thead>\n",
       "  <tbody>\n",
       "    <tr>\n",
       "      <th>0</th>\n",
       "      <td>5850</td>\n",
       "      <td>1</td>\n",
       "      <td>1</td>\n",
       "      <td>0</td>\n",
       "      <td>1</td>\n",
       "      <td>0</td>\n",
       "      <td>0</td>\n",
       "      <td>1</td>\n",
       "      <td>0</td>\n",
       "      <td>0</td>\n",
       "      <td>1</td>\n",
       "      <td>0</td>\n",
       "    </tr>\n",
       "    <tr>\n",
       "      <th>1</th>\n",
       "      <td>4000</td>\n",
       "      <td>1</td>\n",
       "      <td>1</td>\n",
       "      <td>0</td>\n",
       "      <td>0</td>\n",
       "      <td>0</td>\n",
       "      <td>0</td>\n",
       "      <td>0</td>\n",
       "      <td>0</td>\n",
       "      <td>1</td>\n",
       "      <td>0</td>\n",
       "      <td>0</td>\n",
       "    </tr>\n",
       "    <tr>\n",
       "      <th>2</th>\n",
       "      <td>3060</td>\n",
       "      <td>1</td>\n",
       "      <td>1</td>\n",
       "      <td>0</td>\n",
       "      <td>0</td>\n",
       "      <td>0</td>\n",
       "      <td>0</td>\n",
       "      <td>0</td>\n",
       "      <td>0</td>\n",
       "      <td>1</td>\n",
       "      <td>0</td>\n",
       "      <td>0</td>\n",
       "    </tr>\n",
       "    <tr>\n",
       "      <th>3</th>\n",
       "      <td>6650</td>\n",
       "      <td>1</td>\n",
       "      <td>1</td>\n",
       "      <td>1</td>\n",
       "      <td>0</td>\n",
       "      <td>0</td>\n",
       "      <td>0</td>\n",
       "      <td>0</td>\n",
       "      <td>0</td>\n",
       "      <td>0</td>\n",
       "      <td>1</td>\n",
       "      <td>0</td>\n",
       "    </tr>\n",
       "    <tr>\n",
       "      <th>4</th>\n",
       "      <td>6360</td>\n",
       "      <td>1</td>\n",
       "      <td>1</td>\n",
       "      <td>0</td>\n",
       "      <td>0</td>\n",
       "      <td>0</td>\n",
       "      <td>0</td>\n",
       "      <td>0</td>\n",
       "      <td>0</td>\n",
       "      <td>1</td>\n",
       "      <td>0</td>\n",
       "      <td>0</td>\n",
       "    </tr>\n",
       "  </tbody>\n",
       "</table>\n",
       "</div>"
      ],
      "text/plain": [
       "   lotsize  bathrms  driveway  recroom  fullbase  gashw  airco  garagepl  \\\n",
       "0     5850        1         1        0         1      0      0         1   \n",
       "1     4000        1         1        0         0      0      0         0   \n",
       "2     3060        1         1        0         0      0      0         0   \n",
       "3     6650        1         1        1         0      0      0         0   \n",
       "4     6360        1         1        0         0      0      0         0   \n",
       "\n",
       "   prefarea  stories_one  stories_two  stories_three  \n",
       "0         0            0            1              0  \n",
       "1         0            1            0              0  \n",
       "2         0            1            0              0  \n",
       "3         0            0            1              0  \n",
       "4         0            1            0              0  "
      ]
     },
     "execution_count": 13,
     "metadata": {},
     "output_type": "execute_result"
    }
   ],
   "source": [
    "independent_feature = hdf[['lotsize', 'bathrms', 'driveway', 'recroom', 'fullbase', 'gashw', 'airco', 'garagepl', 'prefarea', 'stories_one', 'stories_two', 'stories_three']]\n",
    "independent_feature.head()"
   ]
  },
  {
   "cell_type": "markdown",
   "metadata": {},
   "source": [
    "**Correlation plot**"
   ]
  },
  {
   "cell_type": "code",
   "execution_count": 14,
   "metadata": {},
   "outputs": [
    {
     "data": {
      "text/plain": [
       "<Axes: >"
      ]
     },
     "execution_count": 14,
     "metadata": {},
     "output_type": "execute_result"
    },
    {
     "data": {
      "image/png": "[encoded data removed]",
      "text/plain": [
       "<Figure size 1300x400 with 2 Axes>"
      ]
     },
     "metadata": {},
     "output_type": "display_data"
    }
   ],
   "source": [
    "plt.figure(figsize= (13,4))\n",
    "sns.heatmap(independent_feature.corr(), annot= True)"
   ]
  },
  {
   "cell_type": "markdown",
   "metadata": {},
   "source": [
    "- **Equation of a Multivariate regression model**\n",
    "\n",
    "- *y = m1x1 + m2x2 + m3x3 + c*\n",
    "\n",
    "where,\n",
    "- *y* = Target feature or what we are going to predict\n",
    "- *x1, x2, x3* = Independent feature or on the basis of what we are going to predict\n",
    "- *m1, m2, m3* = Slope or co-efficient (how much changes of y for a unit change in x)\n",
    "- *c* = Intercept (value of y, when x = 0)"
   ]
  },
  {
   "cell_type": "markdown",
   "metadata": {},
   "source": [
    "### OLS (Ordinary least square)"
   ]
  },
  {
   "cell_type": "markdown",
   "metadata": {},
   "source": [
    "- **To calculate the predicted value of y, the intercept (c) has to be multiplied by 1. because it's a constant term that doesn't depend on the value of x.**"
   ]
  },
  {
   "cell_type": "code",
   "execution_count": 15,
   "metadata": {},
   "outputs": [
    {
     "data": {
      "text/html": [
       "<div>\n",
       "<style scoped>\n",
       "    .dataframe tbody tr th:only-of-type {\n",
       "        vertical-align: middle;\n",
       "    }\n",
       "\n",
       "    .dataframe tbody tr th {\n",
       "        vertical-align: top;\n",
       "    }\n",
       "\n",
       "    .dataframe thead th {\n",
       "        text-align: right;\n",
       "    }\n",
       "</style>\n",
       "<table border=\"1\" class=\"dataframe\">\n",
       "  <thead>\n",
       "    <tr style=\"text-align: right;\">\n",
       "      <th></th>\n",
       "      <th>const</th>\n",
       "      <th>lotsize</th>\n",
       "      <th>bathrms</th>\n",
       "      <th>driveway</th>\n",
       "      <th>recroom</th>\n",
       "      <th>fullbase</th>\n",
       "      <th>gashw</th>\n",
       "      <th>airco</th>\n",
       "      <th>garagepl</th>\n",
       "      <th>prefarea</th>\n",
       "      <th>stories_one</th>\n",
       "      <th>stories_two</th>\n",
       "      <th>stories_three</th>\n",
       "    </tr>\n",
       "  </thead>\n",
       "  <tbody>\n",
       "    <tr>\n",
       "      <th>0</th>\n",
       "      <td>1.0</td>\n",
       "      <td>5850</td>\n",
       "      <td>1</td>\n",
       "      <td>1</td>\n",
       "      <td>0</td>\n",
       "      <td>1</td>\n",
       "      <td>0</td>\n",
       "      <td>0</td>\n",
       "      <td>1</td>\n",
       "      <td>0</td>\n",
       "      <td>0</td>\n",
       "      <td>1</td>\n",
       "      <td>0</td>\n",
       "    </tr>\n",
       "    <tr>\n",
       "      <th>1</th>\n",
       "      <td>1.0</td>\n",
       "      <td>4000</td>\n",
       "      <td>1</td>\n",
       "      <td>1</td>\n",
       "      <td>0</td>\n",
       "      <td>0</td>\n",
       "      <td>0</td>\n",
       "      <td>0</td>\n",
       "      <td>0</td>\n",
       "      <td>0</td>\n",
       "      <td>1</td>\n",
       "      <td>0</td>\n",
       "      <td>0</td>\n",
       "    </tr>\n",
       "    <tr>\n",
       "      <th>2</th>\n",
       "      <td>1.0</td>\n",
       "      <td>3060</td>\n",
       "      <td>1</td>\n",
       "      <td>1</td>\n",
       "      <td>0</td>\n",
       "      <td>0</td>\n",
       "      <td>0</td>\n",
       "      <td>0</td>\n",
       "      <td>0</td>\n",
       "      <td>0</td>\n",
       "      <td>1</td>\n",
       "      <td>0</td>\n",
       "      <td>0</td>\n",
       "    </tr>\n",
       "    <tr>\n",
       "      <th>3</th>\n",
       "      <td>1.0</td>\n",
       "      <td>6650</td>\n",
       "      <td>1</td>\n",
       "      <td>1</td>\n",
       "      <td>1</td>\n",
       "      <td>0</td>\n",
       "      <td>0</td>\n",
       "      <td>0</td>\n",
       "      <td>0</td>\n",
       "      <td>0</td>\n",
       "      <td>0</td>\n",
       "      <td>1</td>\n",
       "      <td>0</td>\n",
       "    </tr>\n",
       "    <tr>\n",
       "      <th>4</th>\n",
       "      <td>1.0</td>\n",
       "      <td>6360</td>\n",
       "      <td>1</td>\n",
       "      <td>1</td>\n",
       "      <td>0</td>\n",
       "      <td>0</td>\n",
       "      <td>0</td>\n",
       "      <td>0</td>\n",
       "      <td>0</td>\n",
       "      <td>0</td>\n",
       "      <td>1</td>\n",
       "      <td>0</td>\n",
       "      <td>0</td>\n",
       "    </tr>\n",
       "  </tbody>\n",
       "</table>\n",
       "</div>"
      ],
      "text/plain": [
       "   const  lotsize  bathrms  driveway  recroom  fullbase  gashw  airco  \\\n",
       "0    1.0     5850        1         1        0         1      0      0   \n",
       "1    1.0     4000        1         1        0         0      0      0   \n",
       "2    1.0     3060        1         1        0         0      0      0   \n",
       "3    1.0     6650        1         1        1         0      0      0   \n",
       "4    1.0     6360        1         1        0         0      0      0   \n",
       "\n",
       "   garagepl  prefarea  stories_one  stories_two  stories_three  \n",
       "0         1         0            0            1              0  \n",
       "1         0         0            1            0              0  \n",
       "2         0         0            1            0              0  \n",
       "3         0         0            0            1              0  \n",
       "4         0         0            1            0              0  "
      ]
     },
     "execution_count": 15,
     "metadata": {},
     "output_type": "execute_result"
    }
   ],
   "source": [
    "import statsmodels.api as sm\n",
    "\n",
    "y = target_feature\n",
    "x = sm.add_constant(independent_feature)\n",
    "x.head()"
   ]
  },
  {
   "cell_type": "markdown",
   "metadata": {},
   "source": [
    "- We split the data into train/test of 80/20 percent respectively."
   ]
  },
  {
   "cell_type": "code",
   "execution_count": 16,
   "metadata": {},
   "outputs": [
    {
     "data": {
      "text/html": [
       "<table class=\"simpletable\">\n",
       "<caption>OLS Regression Results</caption>\n",
       "<tr>\n",
       "  <th>Dep. Variable:</th>          <td>price</td>      <th>  R-squared:         </th> <td>   0.682</td>\n",
       "</tr>\n",
       "<tr>\n",
       "  <th>Model:</th>                   <td>OLS</td>       <th>  Adj. R-squared:    </th> <td>   0.673</td>\n",
       "</tr>\n",
       "<tr>\n",
       "  <th>Method:</th>             <td>Least Squares</td>  <th>  F-statistic:       </th> <td>   75.77</td>\n",
       "</tr>\n",
       "<tr>\n",
       "  <th>Date:</th>             <td>Mon, 02 Dec 2024</td> <th>  Prob (F-statistic):</th> <td>2.38e-97</td>\n",
       "</tr>\n",
       "<tr>\n",
       "  <th>Time:</th>                 <td>08:11:08</td>     <th>  Log-Likelihood:    </th> <td> -4810.4</td>\n",
       "</tr>\n",
       "<tr>\n",
       "  <th>No. Observations:</th>      <td>   436</td>      <th>  AIC:               </th> <td>   9647.</td>\n",
       "</tr>\n",
       "<tr>\n",
       "  <th>Df Residuals:</th>          <td>   423</td>      <th>  BIC:               </th> <td>   9700.</td>\n",
       "</tr>\n",
       "<tr>\n",
       "  <th>Df Model:</th>              <td>    12</td>      <th>                     </th>     <td> </td>   \n",
       "</tr>\n",
       "<tr>\n",
       "  <th>Covariance Type:</th>      <td>nonrobust</td>    <th>                     </th>     <td> </td>   \n",
       "</tr>\n",
       "</table>\n",
       "<table class=\"simpletable\">\n",
       "<tr>\n",
       "        <td></td>           <th>coef</th>     <th>std err</th>      <th>t</th>      <th>P>|t|</th>  <th>[0.025</th>    <th>0.975]</th>  \n",
       "</tr>\n",
       "<tr>\n",
       "  <th>const</th>         <td> 2.818e+04</td> <td> 4719.573</td> <td>    5.971</td> <td> 0.000</td> <td> 1.89e+04</td> <td> 3.75e+04</td>\n",
       "</tr>\n",
       "<tr>\n",
       "  <th>lotsize</th>       <td>    3.2416</td> <td>    0.399</td> <td>    8.115</td> <td> 0.000</td> <td>    2.456</td> <td>    4.027</td>\n",
       "</tr>\n",
       "<tr>\n",
       "  <th>bathrms</th>       <td> 1.556e+04</td> <td> 1556.926</td> <td>    9.992</td> <td> 0.000</td> <td> 1.25e+04</td> <td> 1.86e+04</td>\n",
       "</tr>\n",
       "<tr>\n",
       "  <th>driveway</th>      <td> 7242.2434</td> <td> 2210.831</td> <td>    3.276</td> <td> 0.001</td> <td> 2896.661</td> <td> 1.16e+04</td>\n",
       "</tr>\n",
       "<tr>\n",
       "  <th>recroom</th>       <td> 3502.0983</td> <td> 2104.300</td> <td>    1.664</td> <td> 0.097</td> <td> -634.089</td> <td> 7638.286</td>\n",
       "</tr>\n",
       "<tr>\n",
       "  <th>fullbase</th>      <td> 5728.3011</td> <td> 1768.296</td> <td>    3.239</td> <td> 0.001</td> <td> 2252.560</td> <td> 9204.042</td>\n",
       "</tr>\n",
       "<tr>\n",
       "  <th>gashw</th>         <td> 1.415e+04</td> <td> 3417.279</td> <td>    4.140</td> <td> 0.000</td> <td> 7429.220</td> <td> 2.09e+04</td>\n",
       "</tr>\n",
       "<tr>\n",
       "  <th>airco</th>         <td> 1.226e+04</td> <td> 1754.596</td> <td>    6.989</td> <td> 0.000</td> <td> 8814.294</td> <td> 1.57e+04</td>\n",
       "</tr>\n",
       "<tr>\n",
       "  <th>garagepl</th>      <td> 4809.7385</td> <td>  945.533</td> <td>    5.087</td> <td> 0.000</td> <td> 2951.211</td> <td> 6668.266</td>\n",
       "</tr>\n",
       "<tr>\n",
       "  <th>prefarea</th>      <td> 9250.0096</td> <td> 1958.080</td> <td>    4.724</td> <td> 0.000</td> <td> 5401.230</td> <td> 1.31e+04</td>\n",
       "</tr>\n",
       "<tr>\n",
       "  <th>stories_one</th>   <td> -2.14e+04</td> <td> 3446.077</td> <td>   -6.209</td> <td> 0.000</td> <td>-2.82e+04</td> <td>-1.46e+04</td>\n",
       "</tr>\n",
       "<tr>\n",
       "  <th>stories_two</th>   <td>-1.482e+04</td> <td> 3375.628</td> <td>   -4.389</td> <td> 0.000</td> <td>-2.15e+04</td> <td>-8182.001</td>\n",
       "</tr>\n",
       "<tr>\n",
       "  <th>stories_three</th> <td>-3373.9529</td> <td> 4125.819</td> <td>   -0.818</td> <td> 0.414</td> <td>-1.15e+04</td> <td> 4735.707</td>\n",
       "</tr>\n",
       "</table>\n",
       "<table class=\"simpletable\">\n",
       "<tr>\n",
       "  <th>Omnibus:</th>       <td>53.504</td> <th>  Durbin-Watson:     </th> <td>   1.978</td>\n",
       "</tr>\n",
       "<tr>\n",
       "  <th>Prob(Omnibus):</th> <td> 0.000</td> <th>  Jarque-Bera (JB):  </th> <td> 112.912</td>\n",
       "</tr>\n",
       "<tr>\n",
       "  <th>Skew:</th>          <td> 0.674</td> <th>  Prob(JB):          </th> <td>3.03e-25</td>\n",
       "</tr>\n",
       "<tr>\n",
       "  <th>Kurtosis:</th>      <td> 5.097</td> <th>  Cond. No.          </th> <td>5.41e+04</td>\n",
       "</tr>\n",
       "</table><br/><br/>Notes:<br/>[1] Standard Errors assume that the covariance matrix of the errors is correctly specified.<br/>[2] The condition number is large, 5.41e+04. This might indicate that there are<br/>strong multicollinearity or other numerical problems."
      ],
      "text/latex": [
       "\\begin{center}\n",
       "\\begin{tabular}{lclc}\n",
       "\\toprule\n",
       "\\textbf{Dep. Variable:}    &      price       & \\textbf{  R-squared:         } &     0.682   \\\\\n",
       "\\textbf{Model:}            &       OLS        & \\textbf{  Adj. R-squared:    } &     0.673   \\\\\n",
       "\\textbf{Method:}           &  Least Squares   & \\textbf{  F-statistic:       } &     75.77   \\\\\n",
       "\\textbf{Date:}             & Mon, 02 Dec 2024 & \\textbf{  Prob (F-statistic):} &  2.38e-97   \\\\\n",
       "\\textbf{Time:}             &     08:11:08     & \\textbf{  Log-Likelihood:    } &   -4810.4   \\\\\n",
       "\\textbf{No. Observations:} &         436      & \\textbf{  AIC:               } &     9647.   \\\\\n",
       "\\textbf{Df Residuals:}     &         423      & \\textbf{  BIC:               } &     9700.   \\\\\n",
       "\\textbf{Df Model:}         &          12      & \\textbf{                     } &             \\\\\n",
       "\\textbf{Covariance Type:}  &    nonrobust     & \\textbf{                     } &             \\\\\n",
       "\\bottomrule\n",
       "\\end{tabular}\n",
       "\\begin{tabular}{lcccccc}\n",
       "                        & \\textbf{coef} & \\textbf{std err} & \\textbf{t} & \\textbf{P$> |$t$|$} & \\textbf{[0.025} & \\textbf{0.975]}  \\\\\n",
       "\\midrule\n",
       "\\textbf{const}          &    2.818e+04  &     4719.573     &     5.971  &         0.000        &     1.89e+04    &     3.75e+04     \\\\\n",
       "\\textbf{lotsize}        &       3.2416  &        0.399     &     8.115  &         0.000        &        2.456    &        4.027     \\\\\n",
       "\\textbf{bathrms}        &    1.556e+04  &     1556.926     &     9.992  &         0.000        &     1.25e+04    &     1.86e+04     \\\\\n",
       "\\textbf{driveway}       &    7242.2434  &     2210.831     &     3.276  &         0.001        &     2896.661    &     1.16e+04     \\\\\n",
       "\\textbf{recroom}        &    3502.0983  &     2104.300     &     1.664  &         0.097        &     -634.089    &     7638.286     \\\\\n",
       "\\textbf{fullbase}       &    5728.3011  &     1768.296     &     3.239  &         0.001        &     2252.560    &     9204.042     \\\\\n",
       "\\textbf{gashw}          &    1.415e+04  &     3417.279     &     4.140  &         0.000        &     7429.220    &     2.09e+04     \\\\\n",
       "\\textbf{airco}          &    1.226e+04  &     1754.596     &     6.989  &         0.000        &     8814.294    &     1.57e+04     \\\\\n",
       "\\textbf{garagepl}       &    4809.7385  &      945.533     &     5.087  &         0.000        &     2951.211    &     6668.266     \\\\\n",
       "\\textbf{prefarea}       &    9250.0096  &     1958.080     &     4.724  &         0.000        &     5401.230    &     1.31e+04     \\\\\n",
       "\\textbf{stories\\_one}   &    -2.14e+04  &     3446.077     &    -6.209  &         0.000        &    -2.82e+04    &    -1.46e+04     \\\\\n",
       "\\textbf{stories\\_two}   &   -1.482e+04  &     3375.628     &    -4.389  &         0.000        &    -2.15e+04    &    -8182.001     \\\\\n",
       "\\textbf{stories\\_three} &   -3373.9529  &     4125.819     &    -0.818  &         0.414        &    -1.15e+04    &     4735.707     \\\\\n",
       "\\bottomrule\n",
       "\\end{tabular}\n",
       "\\begin{tabular}{lclc}\n",
       "\\textbf{Omnibus:}       & 53.504 & \\textbf{  Durbin-Watson:     } &    1.978  \\\\\n",
       "\\textbf{Prob(Omnibus):} &  0.000 & \\textbf{  Jarque-Bera (JB):  } &  112.912  \\\\\n",
       "\\textbf{Skew:}          &  0.674 & \\textbf{  Prob(JB):          } & 3.03e-25  \\\\\n",
       "\\textbf{Kurtosis:}      &  5.097 & \\textbf{  Cond. No.          } & 5.41e+04  \\\\\n",
       "\\bottomrule\n",
       "\\end{tabular}\n",
       "%\\caption{OLS Regression Results}\n",
       "\\end{center}\n",
       "\n",
       "Notes: \\newline\n",
       " [1] Standard Errors assume that the covariance matrix of the errors is correctly specified. \\newline\n",
       " [2] The condition number is large, 5.41e+04. This might indicate that there are \\newline\n",
       " strong multicollinearity or other numerical problems."
      ],
      "text/plain": [
       "<class 'statsmodels.iolib.summary.Summary'>\n",
       "\"\"\"\n",
       "                            OLS Regression Results                            \n",
       "==============================================================================\n",
       "Dep. Variable:                  price   R-squared:                       0.682\n",
       "Model:                            OLS   Adj. R-squared:                  0.673\n",
       "Method:                 Least Squares   F-statistic:                     75.77\n",
       "Date:                Mon, 02 Dec 2024   Prob (F-statistic):           2.38e-97\n",
       "Time:                        08:11:08   Log-Likelihood:                -4810.4\n",
       "No. Observations:                 436   AIC:                             9647.\n",
       "Df Residuals:                     423   BIC:                             9700.\n",
       "Df Model:                          12                                         \n",
       "Covariance Type:            nonrobust                                         \n",
       "=================================================================================\n",
       "                    coef    std err          t      P>|t|      [0.025      0.975]\n",
       "---------------------------------------------------------------------------------\n",
       "const          2.818e+04   4719.573      5.971      0.000    1.89e+04    3.75e+04\n",
       "lotsize           3.2416      0.399      8.115      0.000       2.456       4.027\n",
       "bathrms        1.556e+04   1556.926      9.992      0.000    1.25e+04    1.86e+04\n",
       "driveway       7242.2434   2210.831      3.276      0.001    2896.661    1.16e+04\n",
       "recroom        3502.0983   2104.300      1.664      0.097    -634.089    7638.286\n",
       "fullbase       5728.3011   1768.296      3.239      0.001    2252.560    9204.042\n",
       "gashw          1.415e+04   3417.279      4.140      0.000    7429.220    2.09e+04\n",
       "airco          1.226e+04   1754.596      6.989      0.000    8814.294    1.57e+04\n",
       "garagepl       4809.7385    945.533      5.087      0.000    2951.211    6668.266\n",
       "prefarea       9250.0096   1958.080      4.724      0.000    5401.230    1.31e+04\n",
       "stories_one    -2.14e+04   3446.077     -6.209      0.000   -2.82e+04   -1.46e+04\n",
       "stories_two   -1.482e+04   3375.628     -4.389      0.000   -2.15e+04   -8182.001\n",
       "stories_three -3373.9529   4125.819     -0.818      0.414   -1.15e+04    4735.707\n",
       "==============================================================================\n",
       "Omnibus:                       53.504   Durbin-Watson:                   1.978\n",
       "Prob(Omnibus):                  0.000   Jarque-Bera (JB):              112.912\n",
       "Skew:                           0.674   Prob(JB):                     3.03e-25\n",
       "Kurtosis:                       5.097   Cond. No.                     5.41e+04\n",
       "==============================================================================\n",
       "\n",
       "Notes:\n",
       "[1] Standard Errors assume that the covariance matrix of the errors is correctly specified.\n",
       "[2] The condition number is large, 5.41e+04. This might indicate that there are\n",
       "strong multicollinearity or other numerical problems.\n",
       "\"\"\""
      ]
     },
     "execution_count": 16,
     "metadata": {},
     "output_type": "execute_result"
    }
   ],
   "source": [
    "from sklearn.model_selection import train_test_split\n",
    "\n",
    "X_train, X_test, y_train, y_test = train_test_split(x, y, train_size= 0.8, random_state= 1)\n",
    "\n",
    "# Fit an OLS model\n",
    "\n",
    "model = sm.OLS(y_train, X_train).fit()\n",
    "model.summary()"
   ]
  },
  {
   "cell_type": "markdown",
   "metadata": {},
   "source": [
    "- **Lets remove recroom as it has p value > significance level (0.05) and re-run the model.**"
   ]
  },
  {
   "cell_type": "code",
   "execution_count": 17,
   "metadata": {},
   "outputs": [],
   "source": [
    "independent_feature = hdf[['lotsize', 'bathrms', 'driveway', 'fullbase', 'gashw', 'airco', 'garagepl', 'prefarea', 'stories_one', 'stories_two', 'stories_three']]\n"
   ]
  },
  {
   "cell_type": "code",
   "execution_count": 18,
   "metadata": {},
   "outputs": [
    {
     "data": {
      "text/html": [
       "<table class=\"simpletable\">\n",
       "<caption>OLS Regression Results</caption>\n",
       "<tr>\n",
       "  <th>Dep. Variable:</th>          <td>price</td>      <th>  R-squared:         </th> <td>   0.680</td>\n",
       "</tr>\n",
       "<tr>\n",
       "  <th>Model:</th>                   <td>OLS</td>       <th>  Adj. R-squared:    </th> <td>   0.672</td>\n",
       "</tr>\n",
       "<tr>\n",
       "  <th>Method:</th>             <td>Least Squares</td>  <th>  F-statistic:       </th> <td>   82.06</td>\n",
       "</tr>\n",
       "<tr>\n",
       "  <th>Date:</th>             <td>Mon, 02 Dec 2024</td> <th>  Prob (F-statistic):</th> <td>1.00e-97</td>\n",
       "</tr>\n",
       "<tr>\n",
       "  <th>Time:</th>                 <td>08:11:13</td>     <th>  Log-Likelihood:    </th> <td> -4811.8</td>\n",
       "</tr>\n",
       "<tr>\n",
       "  <th>No. Observations:</th>      <td>   436</td>      <th>  AIC:               </th> <td>   9648.</td>\n",
       "</tr>\n",
       "<tr>\n",
       "  <th>Df Residuals:</th>          <td>   424</td>      <th>  BIC:               </th> <td>   9697.</td>\n",
       "</tr>\n",
       "<tr>\n",
       "  <th>Df Model:</th>              <td>    11</td>      <th>                     </th>     <td> </td>   \n",
       "</tr>\n",
       "<tr>\n",
       "  <th>Covariance Type:</th>      <td>nonrobust</td>    <th>                     </th>     <td> </td>   \n",
       "</tr>\n",
       "</table>\n",
       "<table class=\"simpletable\">\n",
       "<tr>\n",
       "        <td></td>           <th>coef</th>     <th>std err</th>      <th>t</th>      <th>P>|t|</th>  <th>[0.025</th>    <th>0.975]</th>  \n",
       "</tr>\n",
       "<tr>\n",
       "  <th>const</th>         <td> 2.805e+04</td> <td> 4728.708</td> <td>    5.931</td> <td> 0.000</td> <td> 1.88e+04</td> <td> 3.73e+04</td>\n",
       "</tr>\n",
       "<tr>\n",
       "  <th>lotsize</th>       <td>    3.3027</td> <td>    0.399</td> <td>    8.285</td> <td> 0.000</td> <td>    2.519</td> <td>    4.086</td>\n",
       "</tr>\n",
       "<tr>\n",
       "  <th>bathrms</th>       <td> 1.565e+04</td> <td> 1559.068</td> <td>   10.041</td> <td> 0.000</td> <td> 1.26e+04</td> <td> 1.87e+04</td>\n",
       "</tr>\n",
       "<tr>\n",
       "  <th>driveway</th>      <td> 7468.7374</td> <td> 2211.239</td> <td>    3.378</td> <td> 0.001</td> <td> 3122.383</td> <td> 1.18e+04</td>\n",
       "</tr>\n",
       "<tr>\n",
       "  <th>fullbase</th>      <td> 6709.2493</td> <td> 1670.645</td> <td>    4.016</td> <td> 0.000</td> <td> 3425.472</td> <td> 9993.027</td>\n",
       "</tr>\n",
       "<tr>\n",
       "  <th>gashw</th>         <td> 1.425e+04</td> <td> 3423.811</td> <td>    4.163</td> <td> 0.000</td> <td> 7522.203</td> <td>  2.1e+04</td>\n",
       "</tr>\n",
       "<tr>\n",
       "  <th>airco</th>         <td> 1.241e+04</td> <td> 1755.934</td> <td>    7.069</td> <td> 0.000</td> <td> 8961.650</td> <td> 1.59e+04</td>\n",
       "</tr>\n",
       "<tr>\n",
       "  <th>garagepl</th>      <td> 4704.8847</td> <td>  945.398</td> <td>    4.977</td> <td> 0.000</td> <td> 2846.634</td> <td> 6563.135</td>\n",
       "</tr>\n",
       "<tr>\n",
       "  <th>prefarea</th>      <td> 9444.6736</td> <td> 1958.659</td> <td>    4.822</td> <td> 0.000</td> <td> 5594.784</td> <td> 1.33e+04</td>\n",
       "</tr>\n",
       "<tr>\n",
       "  <th>stories_one</th>   <td> -2.17e+04</td> <td> 3448.552</td> <td>   -6.291</td> <td> 0.000</td> <td>-2.85e+04</td> <td>-1.49e+04</td>\n",
       "</tr>\n",
       "<tr>\n",
       "  <th>stories_two</th>   <td>-1.504e+04</td> <td> 3380.099</td> <td>   -4.448</td> <td> 0.000</td> <td>-2.17e+04</td> <td>-8392.068</td>\n",
       "</tr>\n",
       "<tr>\n",
       "  <th>stories_three</th> <td>-3607.7381</td> <td> 4132.023</td> <td>   -0.873</td> <td> 0.383</td> <td>-1.17e+04</td> <td> 4514.062</td>\n",
       "</tr>\n",
       "</table>\n",
       "<table class=\"simpletable\">\n",
       "<tr>\n",
       "  <th>Omnibus:</th>       <td>50.670</td> <th>  Durbin-Watson:     </th> <td>   1.975</td>\n",
       "</tr>\n",
       "<tr>\n",
       "  <th>Prob(Omnibus):</th> <td> 0.000</td> <th>  Jarque-Bera (JB):  </th> <td> 102.174</td>\n",
       "</tr>\n",
       "<tr>\n",
       "  <th>Skew:</th>          <td> 0.657</td> <th>  Prob(JB):          </th> <td>6.50e-23</td>\n",
       "</tr>\n",
       "<tr>\n",
       "  <th>Kurtosis:</th>      <td> 4.974</td> <th>  Cond. No.          </th> <td>5.41e+04</td>\n",
       "</tr>\n",
       "</table><br/><br/>Notes:<br/>[1] Standard Errors assume that the covariance matrix of the errors is correctly specified.<br/>[2] The condition number is large, 5.41e+04. This might indicate that there are<br/>strong multicollinearity or other numerical problems."
      ],
      "text/latex": [
       "\\begin{center}\n",
       "\\begin{tabular}{lclc}\n",
       "\\toprule\n",
       "\\textbf{Dep. Variable:}    &      price       & \\textbf{  R-squared:         } &     0.680   \\\\\n",
       "\\textbf{Model:}            &       OLS        & \\textbf{  Adj. R-squared:    } &     0.672   \\\\\n",
       "\\textbf{Method:}           &  Least Squares   & \\textbf{  F-statistic:       } &     82.06   \\\\\n",
       "\\textbf{Date:}             & Mon, 02 Dec 2024 & \\textbf{  Prob (F-statistic):} &  1.00e-97   \\\\\n",
       "\\textbf{Time:}             &     08:11:13     & \\textbf{  Log-Likelihood:    } &   -4811.8   \\\\\n",
       "\\textbf{No. Observations:} &         436      & \\textbf{  AIC:               } &     9648.   \\\\\n",
       "\\textbf{Df Residuals:}     &         424      & \\textbf{  BIC:               } &     9697.   \\\\\n",
       "\\textbf{Df Model:}         &          11      & \\textbf{                     } &             \\\\\n",
       "\\textbf{Covariance Type:}  &    nonrobust     & \\textbf{                     } &             \\\\\n",
       "\\bottomrule\n",
       "\\end{tabular}\n",
       "\\begin{tabular}{lcccccc}\n",
       "                        & \\textbf{coef} & \\textbf{std err} & \\textbf{t} & \\textbf{P$> |$t$|$} & \\textbf{[0.025} & \\textbf{0.975]}  \\\\\n",
       "\\midrule\n",
       "\\textbf{const}          &    2.805e+04  &     4728.708     &     5.931  &         0.000        &     1.88e+04    &     3.73e+04     \\\\\n",
       "\\textbf{lotsize}        &       3.3027  &        0.399     &     8.285  &         0.000        &        2.519    &        4.086     \\\\\n",
       "\\textbf{bathrms}        &    1.565e+04  &     1559.068     &    10.041  &         0.000        &     1.26e+04    &     1.87e+04     \\\\\n",
       "\\textbf{driveway}       &    7468.7374  &     2211.239     &     3.378  &         0.001        &     3122.383    &     1.18e+04     \\\\\n",
       "\\textbf{fullbase}       &    6709.2493  &     1670.645     &     4.016  &         0.000        &     3425.472    &     9993.027     \\\\\n",
       "\\textbf{gashw}          &    1.425e+04  &     3423.811     &     4.163  &         0.000        &     7522.203    &      2.1e+04     \\\\\n",
       "\\textbf{airco}          &    1.241e+04  &     1755.934     &     7.069  &         0.000        &     8961.650    &     1.59e+04     \\\\\n",
       "\\textbf{garagepl}       &    4704.8847  &      945.398     &     4.977  &         0.000        &     2846.634    &     6563.135     \\\\\n",
       "\\textbf{prefarea}       &    9444.6736  &     1958.659     &     4.822  &         0.000        &     5594.784    &     1.33e+04     \\\\\n",
       "\\textbf{stories\\_one}   &    -2.17e+04  &     3448.552     &    -6.291  &         0.000        &    -2.85e+04    &    -1.49e+04     \\\\\n",
       "\\textbf{stories\\_two}   &   -1.504e+04  &     3380.099     &    -4.448  &         0.000        &    -2.17e+04    &    -8392.068     \\\\\n",
       "\\textbf{stories\\_three} &   -3607.7381  &     4132.023     &    -0.873  &         0.383        &    -1.17e+04    &     4514.062     \\\\\n",
       "\\bottomrule\n",
       "\\end{tabular}\n",
       "\\begin{tabular}{lclc}\n",
       "\\textbf{Omnibus:}       & 50.670 & \\textbf{  Durbin-Watson:     } &    1.975  \\\\\n",
       "\\textbf{Prob(Omnibus):} &  0.000 & \\textbf{  Jarque-Bera (JB):  } &  102.174  \\\\\n",
       "\\textbf{Skew:}          &  0.657 & \\textbf{  Prob(JB):          } & 6.50e-23  \\\\\n",
       "\\textbf{Kurtosis:}      &  4.974 & \\textbf{  Cond. No.          } & 5.41e+04  \\\\\n",
       "\\bottomrule\n",
       "\\end{tabular}\n",
       "%\\caption{OLS Regression Results}\n",
       "\\end{center}\n",
       "\n",
       "Notes: \\newline\n",
       " [1] Standard Errors assume that the covariance matrix of the errors is correctly specified. \\newline\n",
       " [2] The condition number is large, 5.41e+04. This might indicate that there are \\newline\n",
       " strong multicollinearity or other numerical problems."
      ],
      "text/plain": [
       "<class 'statsmodels.iolib.summary.Summary'>\n",
       "\"\"\"\n",
       "                            OLS Regression Results                            \n",
       "==============================================================================\n",
       "Dep. Variable:                  price   R-squared:                       0.680\n",
       "Model:                            OLS   Adj. R-squared:                  0.672\n",
       "Method:                 Least Squares   F-statistic:                     82.06\n",
       "Date:                Mon, 02 Dec 2024   Prob (F-statistic):           1.00e-97\n",
       "Time:                        08:11:13   Log-Likelihood:                -4811.8\n",
       "No. Observations:                 436   AIC:                             9648.\n",
       "Df Residuals:                     424   BIC:                             9697.\n",
       "Df Model:                          11                                         \n",
       "Covariance Type:            nonrobust                                         \n",
       "=================================================================================\n",
       "                    coef    std err          t      P>|t|      [0.025      0.975]\n",
       "---------------------------------------------------------------------------------\n",
       "const          2.805e+04   4728.708      5.931      0.000    1.88e+04    3.73e+04\n",
       "lotsize           3.3027      0.399      8.285      0.000       2.519       4.086\n",
       "bathrms        1.565e+04   1559.068     10.041      0.000    1.26e+04    1.87e+04\n",
       "driveway       7468.7374   2211.239      3.378      0.001    3122.383    1.18e+04\n",
       "fullbase       6709.2493   1670.645      4.016      0.000    3425.472    9993.027\n",
       "gashw          1.425e+04   3423.811      4.163      0.000    7522.203     2.1e+04\n",
       "airco          1.241e+04   1755.934      7.069      0.000    8961.650    1.59e+04\n",
       "garagepl       4704.8847    945.398      4.977      0.000    2846.634    6563.135\n",
       "prefarea       9444.6736   1958.659      4.822      0.000    5594.784    1.33e+04\n",
       "stories_one    -2.17e+04   3448.552     -6.291      0.000   -2.85e+04   -1.49e+04\n",
       "stories_two   -1.504e+04   3380.099     -4.448      0.000   -2.17e+04   -8392.068\n",
       "stories_three -3607.7381   4132.023     -0.873      0.383   -1.17e+04    4514.062\n",
       "==============================================================================\n",
       "Omnibus:                       50.670   Durbin-Watson:                   1.975\n",
       "Prob(Omnibus):                  0.000   Jarque-Bera (JB):              102.174\n",
       "Skew:                           0.657   Prob(JB):                     6.50e-23\n",
       "Kurtosis:                       4.974   Cond. No.                     5.41e+04\n",
       "==============================================================================\n",
       "\n",
       "Notes:\n",
       "[1] Standard Errors assume that the covariance matrix of the errors is correctly specified.\n",
       "[2] The condition number is large, 5.41e+04. This might indicate that there are\n",
       "strong multicollinearity or other numerical problems.\n",
       "\"\"\""
      ]
     },
     "execution_count": 18,
     "metadata": {},
     "output_type": "execute_result"
    }
   ],
   "source": [
    "y = target_feature\n",
    "x = sm.add_constant(independent_feature)\n",
    "\n",
    "X_train, X_test, y_train, y_test = train_test_split(x, y, train_size= 0.8, random_state= 1)\n",
    "\n",
    "# Fit an OLS model\n",
    "\n",
    "model = sm.OLS(y_train, X_train).fit()\n",
    "model.summary()"
   ]
  },
  {
   "cell_type": "markdown",
   "metadata": {},
   "source": [
    "### Outliers"
   ]
  },
  {
   "cell_type": "markdown",
   "metadata": {},
   "source": [
    "*Plotting normalized residual vs leverage to understand the outlier points.*"
   ]
  },
  {
   "cell_type": "markdown",
   "metadata": {},
   "source": [
    "- **residual:** *difference between observed (actual) and predicted values*  "
   ]
  },
  {
   "cell_type": "markdown",
   "metadata": {},
   "source": [
    "- **leverage** *is a measure of how far away the independent variable values of an observation are from those of the other observations.*"
   ]
  },
  {
   "cell_type": "markdown",
   "metadata": {},
   "source": [
    "- **Identify outliers:** *Points with high residuals (vertical distance from the regression line) and Points with high leverage (unusual predictor values) both are most concerning.*"
   ]
  },
  {
   "cell_type": "code",
   "execution_count": 19,
   "metadata": {},
   "outputs": [
    {
     "data": {
      "image/png": "[encoded data removed]",
      "text/plain": [
       "<Figure size 640x480 with 1 Axes>"
      ]
     },
     "metadata": {},
     "output_type": "display_data"
    }
   ],
   "source": [
    "from statsmodels.graphics.regressionplots import plot_leverage_resid2\n",
    "\n",
    "plot_leverage_resid2(model)\n",
    "plt.show()"
   ]
  },
  {
   "cell_type": "markdown",
   "metadata": {},
   "source": [
    "- **Homoscedasticity :** *If the residuals show a consistent spread or same variance across all values of the independent variable(s), this indicates homoscedasticity.*\n",
    "\n",
    "- **Heteroscedasticity :** *if the residuals show variance (spread) gets wider or narrower as the independent variable changes, this indicates heteroscedasticity.*"
   ]
  },
  {
   "cell_type": "code",
   "execution_count": 20,
   "metadata": {},
   "outputs": [
    {
     "data": {
      "image/png": "[encoded data removed]",
      "text/plain": [
       "<Figure size 800x400 with 1 Axes>"
      ]
     },
     "metadata": {},
     "output_type": "display_data"
    }
   ],
   "source": [
    "# plot to check homoscedasticity\n",
    "\n",
    "plt.figure(figsize= (8,4))\n",
    "plt.plot(model.resid, '.', color= 'blue')              # '.': Point markers.\n",
    "plt.title('Residual plot')\n",
    "plt.ylabel('Residual')\n",
    "plt.xlabel('Observation Numbers')\n",
    "plt.show()"
   ]
  },
  {
   "cell_type": "code",
   "execution_count": 21,
   "metadata": {},
   "outputs": [
    {
     "data": {
      "image/png": "[encoded data removed]",
      "text/plain": [
       "<Figure size 800x400 with 1 Axes>"
      ]
     },
     "metadata": {},
     "output_type": "display_data"
    }
   ],
   "source": [
    "# normality plot\n",
    "\n",
    "plt.figure(figsize= (8,4))\n",
    "plt.hist(model.resid, density= True, color= 'blue')\n",
    "plt.title('Error normality plot')\n",
    "plt.ylabel('Observation Numbers')\n",
    "plt.xlabel('Residual')\n",
    "plt.show()"
   ]
  },
  {
   "cell_type": "markdown",
   "metadata": {},
   "source": [
    "### If the residual plot is not scattered or not normally distributed then there is a chance that independent variable is not having linear relationship."
   ]
  },
  {
   "cell_type": "code",
   "execution_count": 31,
   "metadata": {},
   "outputs": [],
   "source": [
    "from sklearn.linear_model import LinearRegression\n",
    "\n",
    "y = target_feature\n",
    "x = sm.add_constant(independent_feature)\n",
    "\n",
    "X_train, X_test, y_train, y_test = train_test_split(x, y, train_size= 0.8, random_state= 1)\n",
    "\n",
    "# Fit Linear regression model on the train data\n",
    "\n",
    "model = LinearRegression()\n",
    "model_fit = model.fit(X_train, y_train)"
   ]
  },
  {
   "cell_type": "code",
   "execution_count": 27,
   "metadata": {},
   "outputs": [
    {
     "data": {
      "text/plain": [
       "0.6046622415213913"
      ]
     },
     "execution_count": 27,
     "metadata": {},
     "output_type": "execute_result"
    }
   ],
   "source": [
    "from sklearn.metrics import r2_score\n",
    "\n",
    "r2_score(y_test, y_pred)"
   ]
  },
  {
   "cell_type": "markdown",
   "metadata": {},
   "source": [
    "- **R² = 1: Perfect fit. The model explains all the variance in the target variable.**\n",
    "\n",
    "- **R² = 0: The model explains none of the variance. It’s no better than simply predicting the mean value.**\n",
    "\n",
    "- **Negative R²: The model performs worse than simply predicting the mean (poor fit)**"
   ]
  },
  {
   "cell_type": "code",
   "execution_count": 29,
   "metadata": {},
   "outputs": [
    {
     "data": {
      "text/plain": [
       "0.6046622415213913"
      ]
     },
     "execution_count": 29,
     "metadata": {},
     "output_type": "execute_result"
    }
   ],
   "source": [
    "model = LinearRegression()\n",
    "model_fit = model.fit(X_train, y_train)\n",
    "\n",
    "model_fit.score(X_test, y_test)"
   ]
  },
  {
   "cell_type": "markdown",
   "metadata": {},
   "source": [
    "- *moderate fit to the test data*"
   ]
  },
  {
   "cell_type": "code",
   "execution_count": 30,
   "metadata": {},
   "outputs": [
    {
     "data": {
      "text/plain": [
       "0.6804043282778162"
      ]
     },
     "execution_count": 30,
     "metadata": {},
     "output_type": "execute_result"
    }
   ],
   "source": [
    "model_fit.score(X_train, y_train)"
   ]
  },
  {
   "cell_type": "markdown",
   "metadata": {},
   "source": [
    "- *overfitting to the train data*"
   ]
  },
  {
   "cell_type": "markdown",
   "metadata": {},
   "source": [
    "**For training sample, it gives a good accuracy but for test sample the accuracy is moderate**"
   ]
  },
  {
   "cell_type": "markdown",
   "metadata": {},
   "source": [
    "### Set Up Cross-Validation for λ (or alpha)"
   ]
  },
  {
   "cell_type": "code",
   "execution_count": 38,
   "metadata": {},
   "outputs": [],
   "source": [
    "from sklearn.model_selection import GridSearchCV\n",
    "from sklearn.linear_model import Ridge\n",
    "\n",
    "ridge = Ridge()\n",
    "\n",
    "# Define range of alpha values\n",
    "\n",
    "alphas = np.logspace(-4, 4, 50)       # From 10^-4 to 10^4\n",
    "parameter = {'alpha' : alphas}"
   ]
  },
  {
   "cell_type": "code",
   "execution_count": 39,
   "metadata": {},
   "outputs": [],
   "source": [
    "# Perform grid search with cross-validation\n",
    "\n",
    "grid_search = GridSearchCV(estimator= ridge, param_grid= parameter, scoring= 'neg_mean_squared_error', cv= 5)\n",
    "\n",
    "# cv=5 refers to 5-fold cross-validation\n",
    "\n",
    "grid_search_fit = grid_search.fit(X_train, y_train)"
   ]
  },
  {
   "cell_type": "code",
   "execution_count": 41,
   "metadata": {},
   "outputs": [
    {
     "data": {
      "text/plain": [
       "1.7575106248547894"
      ]
     },
     "execution_count": 41,
     "metadata": {},
     "output_type": "execute_result"
    }
   ],
   "source": [
    "best_alpha = grid_search_fit.best_params_['alpha']\n",
    "best_alpha"
   ]
  },
  {
   "cell_type": "markdown",
   "metadata": {},
   "source": [
    "### Train Ridge Regression with Best λ"
   ]
  },
  {
   "cell_type": "code",
   "execution_count": 48,
   "metadata": {},
   "outputs": [
    {
     "data": {
      "text/plain": [
       "0.6039562780307752"
      ]
     },
     "execution_count": 48,
     "metadata": {},
     "output_type": "execute_result"
    }
   ],
   "source": [
    "ridge_model = Ridge(alpha= best_alpha)\n",
    "ridge_model_fit = ridge_model.fit(X_train, y_train)\n",
    "\n",
    "ridge_model_fit.score(X_test, y_test)"
   ]
  },
  {
   "cell_type": "code",
   "execution_count": 69,
   "metadata": {},
   "outputs": [
    {
     "data": {
      "text/plain": [
       "16964.48624428404"
      ]
     },
     "execution_count": 69,
     "metadata": {},
     "output_type": "execute_result"
    }
   ],
   "source": [
    "from sklearn.metrics import mean_squared_error\n",
    "\n",
    "rmse = np.sqrt(mean_squared_error(y_test, y_pred))\n",
    "rmse"
   ]
  },
  {
   "cell_type": "code",
   "execution_count": 76,
   "metadata": {},
   "outputs": [
    {
     "data": {
      "text/plain": [
       "89.7184931852824"
      ]
     },
     "execution_count": 76,
     "metadata": {},
     "output_type": "execute_result"
    }
   ],
   "source": [
    "max_price = hdf['price'].max()\n",
    "min_price = hdf['price'].min()\n",
    "\n",
    "data_range = max_price - min_price\n",
    "\n",
    "perc_of_range = (rmse / data_range) * 100\n",
    "\n",
    "prediction_accuracy = 100 - perc_of_range\n",
    "prediction_accuracy"
   ]
  },
  {
   "cell_type": "code",
   "execution_count": null,
   "metadata": {},
   "outputs": [],
   "source": []
  }
 ],
 "metadata": {
  "deepnote_notebook_id": "f5c3ace81dc34aef9b0479aca7bc8da8",
  "deepnote_persisted_session": {
   "createdAt": "2024-11-30T10:45:12.119Z"
  },
  "kernelspec": {
   "display_name": "Python 3 (ipykernel)",
   "language": "python",
   "name": "python3"
  },
  "language_info": {
   "codemirror_mode": {
    "name": "ipython",
    "version": 3
   },
   "file_extension": ".py",
   "mimetype": "text/x-python",
   "name": "python",
   "nbconvert_exporter": "python",
   "pygments_lexer": "ipython3",
   "version": "3.11.5"
  }
 },
 "nbformat": 4,
 "nbformat_minor": 1
}
